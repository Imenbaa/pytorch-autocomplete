{
  "nbformat": 4,
  "nbformat_minor": 0,
  "metadata": {
    "colab": {
      "name": "pytorch-autocomplete.ipynb",
      "version": "0.3.2",
      "provenance": [],
      "collapsed_sections": [],
      "toc_visible": true
    },
    "kernelspec": {
      "name": "python3",
      "display_name": "Python 3"
    },
    "accelerator": "GPU"
  },
  "cells": [
    {
      "metadata": {
        "id": "Euv59djukq0w",
        "colab_type": "text"
      },
      "cell_type": "markdown",
      "source": [
        "# Autocomplete with PyTorch and RNNs on Colaboratory\n",
        "\n",
        "Despite the recent very impressive advances in deep learning such as [GPT-2](https://openai.com/blog/better-language-models/), [BERT](https://ai.googleblog.com/2018/11/open-sourcing-bert-state-of-art-pre.html) or [Nvidia's GAN-powered face generator](https://medium.com/syncedreview/gan-2-0-nvidias-hyperrealistic-face-generator-e3439d33ebaf), the most influential article about deep learning for me personally is Andrej Karpathy‘s blog entry on [the unreasonable effectiveness of recurrent neural networks](http://karpathy.github.io/2015/05/21/rnn-effectiveness/). When I first read the article almost four years ago, I was amazed of how easily these networks produce text passages which resemble the basic style patterns of e.g. a work by Shakespeare or Linux source code. However, when I tried to train my own recurrent neural networks (RNN), I quickly noticed that without a state-of-art GPU, my neural network sounded more like a toddler than like Shakespeare. \n",
        "\n",
        "While buying your own GPU might be too expensive to just play around with a few deep learning examples and setting up an [AWS](https://aws.amazon.com/) instance might be too much of a hassle, there is an easy-to-use alternative: [Google Colaboratory](https://colab.research.google.com), a hosted Python development environment that features free GPU (and [TPU](https://cloud.google.com/tpu/)) usage. This tutorial can be opened in Colaboratory by simply clicking on the following badge:\n",
        "\n",
        "[![Open In Colab](https://colab.research.google.com/assets/colab-badge.svg)](https://colab.research.google.com/github/christophmark/pytorch-autocomplete/blob/master/pytorch-autocomplete.ipynb)\n",
        "\n",
        "This tutorial aims to cover the complete workflow of a deep learning application, using only Google's computing and data storage resources. The content of this tutorial is inspried by Andrej Karpathy's examples: we will devise a recurrent neural network based on the deep learning framework `PyTorch` that is trained on topic-specific Python source code (e.g. code examples of `tensorflow` or `PyTorch` models) and subsequently serves as a helpful auto-complete function for coding.\n",
        "\n",
        "To implement this application, we will learn to...\n",
        "- connect the Colaboratoy notebook to Google Drive for data storage\n",
        "- scrape training data from Github using automated search queries\n",
        "- define a stacked LSTM recurrent neural network using PyTorch\n",
        "- write a GPU-accelerated training routine with a live progress visualization\n",
        "- integrate the trained model with the notebook environment to employ the auto-complete feature\n",
        "\n",
        "**Acknowledgements**\n",
        "\n",
        "Parts of the code in this tutorial have been taken from or are inspired by existing [GitHub](https://github.com/) projects & [StackOverflow](https://stackoverflow.com) answers:\n",
        "- [neural_complete](https://github.com/kootenpv/neural_complete) by [Pascal van Kooten](https://github.com/kootenpv): A very similar project, based on `keras`/`tensorflow`. The webscraping code in this tutorial is adapted from *neural_complete*.\n",
        "- [pytorch-charRNN](https://github.com/mcleonard/pytorch-charRNN) by [Mat Leonard](https://github.com/mcleonard): A PyTorch implementation of a character-wise RNN that served as the basis for the stacked LSTM network in this tutorial.\n",
        "- The integration of the custom auto-complete function would not have been possible without [this hack](https://stackoverflow.com/questions/48187554/extended-information-for-an-ipython-custom-completer) by [Tarun Lalwani](https://stackoverflow.com/users/2830850/tarun-lalwani).\n",
        "\n",
        "**Disclaimer**\n",
        "\n",
        "Feel free to use this work for your own projects, it is licensed under the [MIT License](https://opensource.org/licenses/MIT):\n",
        "\n",
        "<small><em>\n",
        "> Copyright 2019 Christoph Mark\n",
        "\n",
        "> Permission is hereby granted, free of charge, to any person obtaining a copy of this software and associated documentation files (the \"Software\"), to deal in the Software without restriction, including without limitation the rights to use, copy, modify, merge, publish, distribute, sublicense, and/or sell copies of the Software, and to permit persons to whom the Software is furnished to do so, subject to the following conditions:\n",
        "\n",
        "> The above copyright notice and this permission notice shall be included in all copies or substantial portions of the Software.\n",
        "\n",
        "> THE SOFTWARE IS PROVIDED \"AS IS\", WITHOUT WARRANTY OF ANY KIND, EXPRESS OR IMPLIED, INCLUDING BUT NOT LIMITED TO THE WARRANTIES OF MERCHANTABILITY, FITNESS FOR A PARTICULAR PURPOSE AND NONINFRINGEMENT. IN NO EVENT SHALL THE AUTHORS OR COPYRIGHT HOLDERS BE LIABLE FOR ANY CLAIM, DAMAGES OR OTHER LIABILITY, WHETHER IN AN ACTION OF CONTRACT, TORT OR OTHERWISE, ARISING FROM, OUT OF OR IN CONNECTION WITH THE SOFTWARE OR THE USE OR OTHER DEALINGS IN THE SOFTWARE.</em></small>"
      ]
    },
    {
      "metadata": {
        "id": "BPm1M5p94HMP",
        "colab_type": "text"
      },
      "cell_type": "markdown",
      "source": [
        "## 1. Google Colaboratory\n",
        "\n",
        "Google Colaboratory is a hosted Python development environment based on [Jupyter notebooks](https://jupyter.org/). These notebooks allow to interweave structured text (using the [markdown syntax](https://github.com/adam-p/markdown-here/wiki/Markdown-Cheatsheet)) and Python code. They and are particularly suited for prototyping new ideas, due to interactive code execution."
      ]
    },
    {
      "metadata": {
        "id": "Bza9qCDo4KjX",
        "colab_type": "text"
      },
      "cell_type": "markdown",
      "source": [
        "### 1.1 Activate GPU support\n",
        "\n",
        "To activate GPU support, click on `Runtime > Change runtime type` int he notebook menu and choose `GPU` as the hardware accelerator. To check whether the GPU is available for computation, we import the deep learning framework [PyTorch](https://pytorch.org/):"
      ]
    },
    {
      "metadata": {
        "id": "on51uOHYOiBU",
        "colab_type": "code",
        "outputId": "e96d2831-ac4e-4291-d509-c699470a0384",
        "colab": {
          "base_uri": "https://localhost:8080/",
          "height": 34
        }
      },
      "cell_type": "code",
      "source": [
        "import torch\n",
        "torch.cuda.is_available()"
      ],
      "execution_count": 0,
      "outputs": [
        {
          "output_type": "execute_result",
          "data": {
            "text/plain": [
              "True"
            ]
          },
          "metadata": {
            "tags": []
          },
          "execution_count": 1
        }
      ]
    },
    {
      "metadata": {
        "id": "5ioJM7qIO7fJ",
        "colab_type": "text"
      },
      "cell_type": "markdown",
      "source": [
        "If successful, the output of the cell above should print `True`. Note that Google Colaboratory also offers [TPU](https://cloud.google.com/tpu/) support. These *Tensor Processing Units* are specifically designed for machine learning tasks and may outperform conventional GPUs. While support for TPUs in PyTorch is still pending, [tensorflow](https://www.tensorflow.org/) models may benefit from using TPUs (see [this tutorial](https://colab.research.google.com/notebooks/tpu.ipynb)).\n",
        "\n",
        "### 1.2 Useful commands\n",
        "\n",
        "Within the notebook environment, you can not only execute Python code, but also bash commands by prepending a `!`. For example, you can install new Python packages via the package manager `pip`. Here, we just check the installed version of PyTorch:"
      ]
    },
    {
      "metadata": {
        "id": "0qcEWn4eaeM3",
        "colab_type": "code",
        "outputId": "174d4469-1688-4b78-ab42-d28508e2b9a3",
        "colab": {
          "base_uri": "https://localhost:8080/",
          "height": 187
        }
      },
      "cell_type": "code",
      "source": [
        "!pip show torch"
      ],
      "execution_count": 0,
      "outputs": [
        {
          "output_type": "stream",
          "text": [
            "Name: torch\n",
            "Version: 1.0.1.post2\n",
            "Summary: Tensors and Dynamic neural networks in Python with strong GPU acceleration\n",
            "Home-page: UNKNOWN\n",
            "Author: UNKNOWN\n",
            "Author-email: UNKNOWN\n",
            "License: UNKNOWN\n",
            "Location: /usr/local/lib/python3.6/dist-packages\n",
            "Requires: \n",
            "Required-by: torchvision, torchtext, fastai\n"
          ],
          "name": "stdout"
        }
      ]
    },
    {
      "metadata": {
        "id": "ITRbjD23aicp",
        "colab_type": "text"
      },
      "cell_type": "markdown",
      "source": [
        "Another useful command is `!kill -9 -1`. It will reset all running kernels and free up memory (including GPU memory). Furthermore, there are a few commands to have a closer look on the hardware spcifications, i.e. to get information about the installed CPU and GPU:"
      ]
    },
    {
      "metadata": {
        "id": "9_Wds_kBbGBK",
        "colab_type": "code",
        "outputId": "7673a203-18da-472c-d57c-82c004a8d1bc",
        "colab": {
          "base_uri": "https://localhost:8080/",
          "height": 34
        }
      },
      "cell_type": "code",
      "source": [
        "!lscpu |grep 'Model name'"
      ],
      "execution_count": 0,
      "outputs": [
        {
          "output_type": "stream",
          "text": [
            "Model name:          Intel(R) Xeon(R) CPU @ 2.30GHz\n"
          ],
          "name": "stdout"
        }
      ]
    },
    {
      "metadata": {
        "id": "YmPrLsJya8Zu",
        "colab_type": "code",
        "outputId": "b5540145-61dc-4801-e838-4d5f0550b45e",
        "colab": {
          "base_uri": "https://localhost:8080/",
          "height": 34
        }
      },
      "cell_type": "code",
      "source": [
        "!nvidia-smi -L"
      ],
      "execution_count": 0,
      "outputs": [
        {
          "output_type": "stream",
          "text": [
            "GPU 0: Tesla K80 (UUID: GPU-8b8a8acb-3932-fbb0-7bc9-b2ba7d05ac97)\n"
          ],
          "name": "stdout"
        }
      ]
    },
    {
      "metadata": {
        "id": "UeU4j3OPbqcw",
        "colab_type": "text"
      },
      "cell_type": "markdown",
      "source": [
        "In addition, you can check the available RAM and HDD memory:"
      ]
    },
    {
      "metadata": {
        "id": "aC4y0HqHbwdg",
        "colab_type": "code",
        "outputId": "d29d043b-a00f-4799-d69b-2ac14dfda623",
        "colab": {
          "base_uri": "https://localhost:8080/",
          "height": 34
        }
      },
      "cell_type": "code",
      "source": [
        "!cat /proc/meminfo | grep 'MemAvailable'"
      ],
      "execution_count": 0,
      "outputs": [
        {
          "output_type": "stream",
          "text": [
            "MemAvailable:   12607400 kB\n"
          ],
          "name": "stdout"
        }
      ]
    },
    {
      "metadata": {
        "id": "Q1SUlC_Pbzug",
        "colab_type": "code",
        "outputId": "f1d4dcb1-fc4e-49c2-e41c-7b7b30841772",
        "colab": {
          "base_uri": "https://localhost:8080/",
          "height": 51
        }
      },
      "cell_type": "code",
      "source": [
        "!df -h / | awk '{print $4}'"
      ],
      "execution_count": 0,
      "outputs": [
        {
          "output_type": "stream",
          "text": [
            "Avail\n",
            "318G\n"
          ],
          "name": "stdout"
        }
      ]
    },
    {
      "metadata": {
        "id": "8_3xqMSxbL5o",
        "colab_type": "text"
      },
      "cell_type": "markdown",
      "source": [
        "Finally, one can execute the following command to get a live update on the GPU usage. This is useful to check how much of the GPU memory is in use to optimize the batchsize for training. Note that whenever the training routine in a notebook is still running, you need to execute this command in another Colaboratory notebook to get an instant response:"
      ]
    },
    {
      "metadata": {
        "id": "CmEqTw0zblFS",
        "colab_type": "code",
        "outputId": "5123c40a-90fe-4c15-cabd-4351b2607602",
        "colab": {
          "base_uri": "https://localhost:8080/",
          "height": 306
        }
      },
      "cell_type": "code",
      "source": [
        "!nvidia-smi"
      ],
      "execution_count": 0,
      "outputs": [
        {
          "output_type": "stream",
          "text": [
            "Wed Apr 17 15:36:30 2019       \n",
            "+-----------------------------------------------------------------------------+\n",
            "| NVIDIA-SMI 418.56       Driver Version: 410.79       CUDA Version: 10.0     |\n",
            "|-------------------------------+----------------------+----------------------+\n",
            "| GPU  Name        Persistence-M| Bus-Id        Disp.A | Volatile Uncorr. ECC |\n",
            "| Fan  Temp  Perf  Pwr:Usage/Cap|         Memory-Usage | GPU-Util  Compute M. |\n",
            "|===============================+======================+======================|\n",
            "|   0  Tesla K80           Off  | 00000000:00:04.0 Off |                    0 |\n",
            "| N/A   30C    P8    25W / 149W |     11MiB / 11441MiB |      0%      Default |\n",
            "+-------------------------------+----------------------+----------------------+\n",
            "                                                                               \n",
            "+-----------------------------------------------------------------------------+\n",
            "| Processes:                                                       GPU Memory |\n",
            "|  GPU       PID   Type   Process name                             Usage      |\n",
            "|=============================================================================|\n",
            "|  No running processes found                                                 |\n",
            "+-----------------------------------------------------------------------------+\n"
          ],
          "name": "stdout"
        }
      ]
    },
    {
      "metadata": {
        "id": "hoThh0oD8VNj",
        "colab_type": "text"
      },
      "cell_type": "markdown",
      "source": [
        "### 1.3 Mount Google Drive\n",
        "\n",
        "Another important prerequisite for training our neural network is a place to save checkpoints of the trained model and to store obtained training data. Colaboratory provides convenient access to Google Drive via the `google.colab` Python module. The following command will mount your Google Drive contents to the folder path `/content/gdrive` on the Colaboratory instance. For authentication, you have to click the generated link and paste the authorization code into the input field:\n",
        "\n"
      ]
    },
    {
      "metadata": {
        "id": "r79E1R6MVVxB",
        "colab_type": "code",
        "colab": {}
      },
      "cell_type": "code",
      "source": [
        "from google.colab import drive\n",
        "drive.mount('/content/gdrive')"
      ],
      "execution_count": 0,
      "outputs": []
    },
    {
      "metadata": {
        "id": "GvsJbPDqmP5b",
        "colab_type": "text"
      },
      "cell_type": "markdown",
      "source": [
        "Now you can use conventional Python packages such as `os` or `sys` to create/delete/change files in your Google Drive folders just as if you were working on your local machine.\n",
        "\n",
        "## 2. Getting training data\n",
        "\n",
        "The application we want to develop in this tutorial is a classical example of character-based RNNs: The training data consists of text passages and the label (i.e. the target to train the network on) is a single character that follows the corresponding input text passage. The idea is that with enough input passages, the network will learn the structure of the text, i.e. it will learn words, sentence structure, punctuation - all from just looking at sequences of characters. We want to use Python code snippets as input sequences that are topic-specific, e.g. Python code related to PyTorch models or Matplotlib visualization code. Once we have trained our model on such a text corpus, we will use it to generate suggestions for incomplete code paragraphs - a function that is usually referred to as *auto-complete*.\n",
        "\n",
        "The problem here is to get a large enough corpus of high-quality, topic-specific Python code. GitHub qualifies as such a source: first, the code hosted there is in most cases meant to be distributed to many people and should thus be of high quality (I'm a dreamer...). Second, GitHub is probably among the largest resources of source code available right now. In the following, we will use the [Python bindings](https://selenium-python.readthedocs.io/) of the Web Browser Automation tool [Selenium](https://www.seleniumhq.org/) to scrape the GitHub search results for suitable source code.\n",
        "\n",
        "### 2.1 Webscraping with selenium\n",
        "\n",
        "[Webscraping](https://en.wikipedia.org/wiki/Web_scraping) in general refers to the extraction of data from webpages. If you already know the URLs to query that contain the data in their HTML source code, the Python package `requests` can be used to retrieve the page source code. Scraping gets more complicated when multiple steps are required, e.g. navigating a login screen first, or in cases where data is displayed dynamically by Javascript. In the latter cases, we need to simulate the user of a browser that enters user credentials and clicks buttons, but in a fully automated fashion. Here, we use [Selenium](https://www.seleniumhq.org/) in combination with a [head-less](https://en.wikipedia.org/wiki/Headless_browser) Chrome browser to navigate GitHub.\n",
        "\n",
        "The following commands install `selenium`, the `unidecode` package (needed to decode downloaded page sources), and the head-less browser on the Colaboratory instance."
      ]
    },
    {
      "metadata": {
        "id": "9JG3nnk0SWEj",
        "colab_type": "code",
        "colab": {}
      },
      "cell_type": "code",
      "source": [
        "!pip install selenium\n",
        "!pip install unidecode\n",
        "\n",
        "!apt-get update\n",
        "!apt-get install chromium-chromedriver  "
      ],
      "execution_count": 0,
      "outputs": []
    },
    {
      "metadata": {
        "id": "e2peQ4G5Y4Zv",
        "colab_type": "text"
      },
      "cell_type": "markdown",
      "source": [
        "Now we are ready to let Selenium browse the GitHub search results and find links to source files that we will use as training data for our Recurrent Neural Network in the next section. As an exemplary search query, we will use \n",
        "```\n",
        "torch \"import torch.nn\"\n",
        "```\n",
        "and further require Python files with a minimal file size of 30kB. Our training data thus consists of Python files that involve the `pytorch` package and the definition of neural networks. \n",
        "\n",
        "The code below automatically performs the GitHub-login (using your username and password in plain text, so BE CAREFUL SHARING THIS NOTEBOOK!!), search for the specified query and the navigate the result pages until no more results are found. On each results page, it harvests the links to the source files, which are then downloaded, cleaned (remove multiple newlines, comments, etc.), and added to the training corpus.\n",
        "\n",
        "In case you do not want to scrape training data yourself, a preprocessed training data file can be downloaded [here](https://github.com/christophmark/pytorch-autocomplete/blob/master/data/github-pytorch-30000.txt)."
      ]
    },
    {
      "metadata": {
        "id": "TQvLj_YZzMpR",
        "colab_type": "code",
        "colab": {}
      },
      "cell_type": "code",
      "source": [
        "import os\n",
        "import re\n",
        "import requests\n",
        "import unidecode\n",
        "import lxml.html\n",
        "from time import sleep\n",
        "import numpy as np\n",
        "from selenium import webdriver\n",
        "from tqdm import tqdm"
      ],
      "execution_count": 0,
      "outputs": []
    },
    {
      "metadata": {
        "id": "lPLLem7fzMOe",
        "colab_type": "code",
        "colab": {}
      },
      "cell_type": "code",
      "source": [
        "# your GitHub username and password in plain-text\n",
        "USERNAME = \"XYZ\" # ERASE BEFORE SHARING THIS NOTEBOOK!!!\n",
        "PASSWORD = \"XYZ\" # ERASE BEFORE SHARING THIS NOTEBOOK!!!\n",
        "\n",
        "# search query for GitHub code search\n",
        "SEARCHQUERY = 'torch \"import torch.nn\"'\n",
        "\n",
        "# minimal file size (bytes) to consider in code search\n",
        "MINSIZE = 30000\n",
        "\n",
        "# output file name to store all obtained data in\n",
        "OUTNAME = 'github-pytorch-30000'\n",
        "\n",
        "# directory to store output file in\n",
        "OUTDIR = '/content/gdrive/My Drive/Colab Files/github-scraper'"
      ],
      "execution_count": 0,
      "outputs": []
    },
    {
      "metadata": {
        "id": "tquTO52KAIhb",
        "colab_type": "code",
        "outputId": "411c40f0-fc14-4a32-f920-ca4262ea4c61",
        "colab": {
          "base_uri": "https://localhost:8080/",
          "height": 51
        }
      },
      "cell_type": "code",
      "source": [
        "# preprocessing function to clean up file contents (remove multiple newlines, comments, etc.)\n",
        "def clean_content(x):\n",
        "    x = unidecode.unidecode(x)\n",
        "    x = re.sub('#.*$', '', x, flags=re.MULTILINE)\n",
        "    x = re.sub(\"'''[\\s\\S]*?'''\", '', x, flags=re.MULTILINE)\n",
        "    x = re.sub('\"\"\"[\\s\\S]*?\"\"\"', '', x, flags=re.MULTILINE)\n",
        "    x = re.sub('^[\\t]+\\n', '', x, flags=re.MULTILINE)\n",
        "    x = re.sub('^[ ]+\\n', '', x, flags=re.MULTILINE)\n",
        "    x = re.sub('\\n[\\n]+', '\\n\\n', x, flags=re.MULTILINE)\n",
        "\n",
        "    x += '\\nEOF\\n'\n",
        "    return x\n",
        "\n",
        "# create output directory if it does not exist\n",
        "if not os.path.exists(OUTDIR):\n",
        "    os.makedirs(OUTDIR)\n",
        "\n",
        "# set options for Chrome driver used to scrape GitHub search\n",
        "chrome_options = webdriver.ChromeOptions()\n",
        "chrome_options.add_argument('--headless')\n",
        "chrome_options.add_argument('--no-sandbox')\n",
        "chrome_options.add_argument('--disable-dev-shm-usage')\n",
        "\n",
        "# initialize Chrome instance\n",
        "driver = webdriver.Chrome('chromedriver', options=chrome_options)\n",
        "\n",
        "# navigate the login screen of GitHub\n",
        "driver.get(\"https://github.com/login\")\n",
        "driver.find_element_by_id(\"login_field\").send_keys(USERNAME)\n",
        "driver.find_element_by_id(\"password\").send_keys(PASSWORD)\n",
        "driver.find_element_by_id(\"password\").submit()\n",
        "\n",
        "# adjust the search query to include only Python source files\n",
        "query = SEARCHQUERY+' filename:*.py size:>'+str(MINSIZE)+' language:Python'\n",
        "\n",
        "# initialize variables used during scraping\n",
        "links = set()\n",
        "counts = []\n",
        "counter = 1\n",
        "data = ''\n",
        "\n",
        "# initialize progress bar\n",
        "pbar = tqdm(range(1, 101)) # GitHub search only supports 100 result pages\n",
        "for i in pbar:\n",
        "    try:\n",
        "        # try not to annoy GitHub with too frequent requests\n",
        "        sleep(np.random.uniform(2))\n",
        "        \n",
        "        # get search result page\n",
        "        url = \"https://github.com/search?p={}&q={}&ref=searchresults&type=Code&utf8=%E2%9C%93\"\n",
        "        driver.get(url.format(i, query))\n",
        "        \n",
        "        # get file links from search result page\n",
        "        tree = lxml.html.fromstring(driver.page_source)\n",
        "        page_links = list(set([x for x in tree.xpath('//a/@href') if \"/blob/\" in x and \"#\" not in x]))\n",
        "        pbar.set_description(\"Page #{}. Found {} links.\".format(i, len(page_links)))\n",
        "        \n",
        "        # if no results are found on three consecutive pages, we're done searching\n",
        "        counts.append(len(page_links))\n",
        "        if sum(counts[-3:]) == 0:\n",
        "            break\n",
        "\n",
        "        # visit file links and get source code\n",
        "        for link in page_links:\n",
        "            # leave out repetitive results\n",
        "            if link not in links:\n",
        "                try:\n",
        "                    # try not to annoy GitHub with too frequent requests\n",
        "                    sleep(np.random.uniform(2))\n",
        "                    \n",
        "                    # get and process source file contents\n",
        "                    url = \"https://github.com\" + link\n",
        "                    html = requests.get(url).text\n",
        "                    tree = lxml.html.fromstring(html)\n",
        "                    xpath = '//*[@class=\"blob-code blob-code-inner js-file-line\"]'\n",
        "                    content = \"\\n\".join([x.text_content() for x in tree.xpath(xpath)])\n",
        "                    data += clean_content(content)\n",
        "\n",
        "                    pbar.set_description(\"Page #{}. File #{}. Total data size: {:.3f}MB\".format(i, counter, len(data)/1e6))\n",
        "                    counter += 1\n",
        "                except:\n",
        "                    pass\n",
        "        \n",
        "        # update set of found page links to detect duplicates\n",
        "        links.update(page_links)\n",
        "    \n",
        "    # search can be stopped by interrupting kernel\n",
        "    except KeyboardInterrupt:\n",
        "        break\n",
        "\n",
        "# save results\n",
        "print('No more search results. Saving...')\n",
        "with open(OUTDIR+'/'+OUTNAME+'.txt', 'w') as f:\n",
        "    f.write(data)"
      ],
      "execution_count": 0,
      "outputs": [
        {
          "output_type": "stream",
          "text": [
            "Page #100. File #894. Total data size: 21.702MB: 100%|██████████| 100/100 [35:41<00:00, 22.52s/it]\n"
          ],
          "name": "stderr"
        },
        {
          "output_type": "stream",
          "text": [
            "No more search results. Saving...\n"
          ],
          "name": "stdout"
        }
      ]
    },
    {
      "metadata": {
        "id": "1CvHbD7bzGko",
        "colab_type": "text"
      },
      "cell_type": "markdown",
      "source": [
        "Having scraped the training data (or downloaded the preprocessed training data), we may inspect parts of the data. As expected, we recognize some general Python syntax and commands, but also more specific imports and function definitions related to the Pytorch framework:"
      ]
    },
    {
      "metadata": {
        "id": "_5vrE6RlffVh",
        "colab_type": "code",
        "outputId": "2edc8dd5-d8bb-4388-96f1-8ba6ccae12a6",
        "colab": {
          "base_uri": "https://localhost:8080/",
          "height": 697
        }
      },
      "cell_type": "code",
      "source": [
        "with open(OUTDIR+'/'+OUTNAME+'.txt') as f:\n",
        "    data = ''.join(f.readlines())\n",
        "\n",
        "print(data[:300])\n",
        "print('\\n--------------------------------------------------------------------------------\\n')\n",
        "print(data[100000:100300])\n",
        "print('\\n--------------------------------------------------------------------------------\\n')\n",
        "print(data[300000:300300])"
      ],
      "execution_count": 0,
      "outputs": [
        {
          "output_type": "stream",
          "text": [
            "from __future__ import print_function\n",
            "\n",
            "import time\n",
            "\n",
            "import matplotlib\n",
            "import torch.nn as nn\n",
            "import torch.nn.init as init\n",
            "\n",
            "matplotlib.use('Agg')\n",
            "import matplotlib.pyplot as plt\n",
            "import os\n",
            "import datetime\n",
            "import pandas as pd\n",
            "from torch.utils.data import TensorDataset\n",
            "\n",
            "import torch.nn.parallel\n",
            "from skle\n",
            "\n",
            "--------------------------------------------------------------------------------\n",
            "\n",
            " dataset.loc[(dataset['Fare'] > 7.91) & (dataset['Fare'] <= 14.454), 'Fare'] = 1\n",
            "        dataset.loc[(dataset['Fare'] > 14.454) & (dataset['Fare'] <= 31), 'Fare']   = 2\n",
            "        dataset.loc[ dataset['Fare'] > 31, 'Fare'] = 3\n",
            "        dataset['Fare'] = dataset['Fare'].astype(int)\n",
            "\n",
            "    for dataset in co\n",
            "\n",
            "--------------------------------------------------------------------------------\n",
            "\n",
            " stride=stride, padding=padding,\n",
            "                      bias=bias)\n",
            "    return ret\n",
            "\n",
            "class Forecaster(nn.Module):\n",
            "    def __init__(self, num_seqs):\n",
            "        super(Forecaster, self).__init__()\n",
            "\n",
            "        num_filter = [8, 16, 16]\n",
            "        kernel_size_l = [7, 7, 5]\n",
            "        self.rnn1_1 = ConvGRUCell(input_size\n"
          ],
          "name": "stdout"
        }
      ]
    },
    {
      "metadata": {
        "id": "k_8sF07wma37",
        "colab_type": "text"
      },
      "cell_type": "markdown",
      "source": [
        "## 3. Deep recurrent neural networks with PyTorch\n",
        "\n",
        "In contrast to many other deep learning tutorials here on Google Colaboratory that use the `tensorflow` framework, we will use Facebook's deep learning framework `PyTorch`. It is imported as `torch` and pre-installed on Colab-machines by default."
      ]
    },
    {
      "metadata": {
        "id": "5bZ5ct3EIs-J",
        "colab_type": "code",
        "colab": {}
      },
      "cell_type": "code",
      "source": [
        "%matplotlib inline\n",
        "import matplotlib.pyplot as plt\n",
        "from IPython import display # live plotting\n",
        "\n",
        "from datetime import datetime\n",
        "import numpy as np\n",
        "\n",
        "import torch\n",
        "from torch import nn\n",
        "import torch.nn.functional as F"
      ],
      "execution_count": 0,
      "outputs": []
    },
    {
      "metadata": {
        "id": "CZfasEP6UbP6",
        "colab_type": "text"
      },
      "cell_type": "markdown",
      "source": [
        "### 3.1 Working with text input\n",
        "\n",
        "The aim of this project is to build a recurrent naurel network that can learn to write topic-specific Python code from series of individual characters. In contrast to word-based recurrent neural networks, this approach has the advantage that the vocabulary stays very small (the alphabet + other syntax characters), whereas word-based RNNs have to include common variable names and function names to generate meaningful output. The following functions do the preprocessing of character-based data, i.e. they encode the data (using [one-hot encoding](https://machinelearningmastery.com/how-to-one-hot-encode-sequence-data-in-python/)) and split them into batches for memory-efficient training of the RNN."
      ]
    },
    {
      "metadata": {
        "id": "M9HWzAkXJabf",
        "colab_type": "code",
        "colab": {}
      },
      "cell_type": "code",
      "source": [
        "def get_chars(filepath):\n",
        "    \"\"\"\n",
        "    Returns list of all characters present in a file\n",
        "    \"\"\"\n",
        "    with open(filepath, 'r') as f:\n",
        "        data = f.read()\n",
        "\n",
        "    chars = list(set(data))\n",
        "    return chars\n",
        "\n",
        "\n",
        "def load_data(filepath, chars=None):\n",
        "    \"\"\"\n",
        "    Opens a data file, determines the set of characters present in the file and encodes the characters.\n",
        "    \"\"\"\n",
        "    with open(filepath, 'r') as f:\n",
        "        data = f.read()\n",
        "\n",
        "    if chars is None:\n",
        "        chars = tuple(set(data))\n",
        "    \n",
        "    # lookup tables for encoding\n",
        "    int2char = dict(enumerate(chars))\n",
        "    char2int = {ch: ii for ii, ch in int2char.items()}\n",
        "    \n",
        "    # encoding\n",
        "    encoded = np.array([char2int[ch] for ch in data])\n",
        "\n",
        "    return chars, encoded\n",
        "\n",
        "\n",
        "def one_hot_encode(arr, n_labels):\n",
        "    \"\"\"\n",
        "    One-hot encoding for character-data\n",
        "    \"\"\"\n",
        "    # Initialize the the encoded array\n",
        "    one_hot = np.zeros((np.multiply(*arr.shape), n_labels), dtype=np.float32)\n",
        "\n",
        "    # Fill the appropriate elements with ones\n",
        "    one_hot[np.arange(one_hot.shape[0]), arr.flatten()] = 1.\n",
        "\n",
        "    # Finally reshape it to get back to the original array\n",
        "    one_hot = one_hot.reshape((*arr.shape, n_labels))\n",
        "\n",
        "    return one_hot\n",
        "\n",
        "\n",
        "def get_batches(arr, n_seqs, n_steps):\n",
        "    \"\"\"\n",
        "    Batch generator that returns mini-batches of size (n_seqs x n_steps)\n",
        "    \"\"\"\n",
        "    batch_size = n_seqs * n_steps\n",
        "    n_batches = len(arr) // batch_size\n",
        "\n",
        "    # always create full batches\n",
        "    arr = arr[:n_batches * batch_size]\n",
        "    \n",
        "    # reshape\n",
        "    arr = arr.reshape((n_seqs, -1))\n",
        "    \n",
        "    for n in range(0, arr.shape[1], n_steps):\n",
        "        # features (sequence of characters)\n",
        "        x = arr[:, n:n + n_steps]\n",
        "        \n",
        "        # targets (the next character after the sequence)\n",
        "        y = np.zeros_like(x)\n",
        "        try:\n",
        "            y[:, :-1], y[:, -1] = x[:, 1:], arr[:, n + n_steps]\n",
        "        except IndexError:\n",
        "            y[:, :-1], y[:, -1] = x[:, 1:], arr[:, 0]\n",
        "        yield x, y"
      ],
      "execution_count": 0,
      "outputs": []
    },
    {
      "metadata": {
        "id": "-qBRN2MXUrsD",
        "colab_type": "text"
      },
      "cell_type": "markdown",
      "source": [
        "### 3.2 Character-level RNN\n",
        "\n",
        "The following code defines a basic multi-layer RNN with [LSTM](https://en.wikipedia.org/wiki/Long_short-term_memory) cells and [Dropout](https://en.wikipedia.org/wiki/Dropout_(neural_networks)) in `PyTorch`. Furthermore, we define functions to save checkpoints of the model during training and load these checkpoints again. These functions allow us to keep the best-trained model (according to the validation dataset) during the training procedure and to resume training after an interruption or to fine-tune a model on a second dataset."
      ]
    },
    {
      "metadata": {
        "id": "V7MrLJnlUq-C",
        "colab_type": "code",
        "colab": {}
      },
      "cell_type": "code",
      "source": [
        "class CharRNN(nn.Module):\n",
        "    def __init__(self, tokens, n_hidden=256, n_layers=2, drop_prob=0.5):\n",
        "        \"\"\"\n",
        "        Basic implementation of a multi-layer RNN with LSTM cells and Dropout.\n",
        "        \"\"\"\n",
        "        super().__init__()\n",
        "        self.drop_prob = drop_prob\n",
        "        self.n_layers = n_layers\n",
        "        self.n_hidden = n_hidden\n",
        "\n",
        "        self.chars = tokens\n",
        "        self.int2char = dict(enumerate(self.chars))\n",
        "        self.char2int = {ch: ii for ii, ch in self.int2char.items()}\n",
        "\n",
        "        self.dropout = nn.Dropout(drop_prob)\n",
        "        self.lstm = nn.LSTM(len(self.chars), n_hidden, n_layers,\n",
        "                            dropout=drop_prob, batch_first=True)\n",
        "        self.fc = nn.Linear(n_hidden, len(self.chars))\n",
        "\n",
        "    def forward(self, x, hidden):\n",
        "        \"\"\"\n",
        "        Forward pass through the network\n",
        "        \"\"\"\n",
        "\n",
        "        x, hidden = self.lstm(x, hidden)\n",
        "        x = self.dropout(x)\n",
        "        x = self.fc(x)\n",
        "\n",
        "        return x, hidden\n",
        "\n",
        "    def predict(self, char, hidden=None, device=torch.device('cpu'), top_k=None):\n",
        "        \"\"\"\n",
        "        Given a character, predict the next character. Returns the predicted character and the hidden state.\n",
        "        \"\"\"\n",
        "        with torch.no_grad():\n",
        "            self.to(device)\n",
        "            try:\n",
        "                x = np.array([[self.char2int[char]]])\n",
        "            except KeyError:\n",
        "                return '', hidden\n",
        "\n",
        "            x = one_hot_encode(x, len(self.chars))\n",
        "            inputs = torch.from_numpy(x).to(device)\n",
        "\n",
        "            out, hidden = self.forward(inputs, hidden)\n",
        "\n",
        "            p = F.softmax(out, dim=2).data.to('cpu')\n",
        "\n",
        "            if top_k is None:\n",
        "                top_ch = np.arange(len(self.chars))\n",
        "            else:\n",
        "                p, top_ch = p.topk(top_k)\n",
        "                top_ch = top_ch.numpy().squeeze()\n",
        "\n",
        "            if top_k == 1:\n",
        "                char = int(top_ch)\n",
        "            else:\n",
        "                p = p.numpy().squeeze()\n",
        "                char = np.random.choice(top_ch, p=p / p.sum())\n",
        "\n",
        "            return self.int2char[char], hidden\n",
        "\n",
        "\n",
        "def save_checkpoint(net, opt, filename, train_history={}):\n",
        "    \"\"\"\n",
        "    Save trained model to file.\n",
        "    \"\"\"\n",
        "    checkpoint = {'n_hidden': net.n_hidden,\n",
        "                  'n_layers': net.n_layers,\n",
        "                  'state_dict': net.state_dict(),\n",
        "                  'optimizer': opt.state_dict(),\n",
        "                  'tokens': net.chars,\n",
        "                  'train_history': train_history}\n",
        "\n",
        "    with open(filename, 'wb') as f:\n",
        "        torch.save(checkpoint, f)\n",
        "\n",
        "\n",
        "def load_checkpoint(filename):\n",
        "    \"\"\"\n",
        "    Load trained model from file.\n",
        "    \"\"\"\n",
        "    with open(filename, 'rb') as f:\n",
        "        checkpoint = torch.load(f, map_location='cpu')\n",
        "\n",
        "    net = CharRNN(checkpoint['tokens'], n_hidden=checkpoint['n_hidden'], n_layers=checkpoint['n_layers'])\n",
        "    net.load_state_dict(checkpoint['state_dict'])\n",
        "\n",
        "    return net, checkpoint"
      ],
      "execution_count": 0,
      "outputs": []
    },
    {
      "metadata": {
        "id": "SyHeBTIcU1ia",
        "colab_type": "text"
      },
      "cell_type": "markdown",
      "source": [
        "### 3.3 Training\n",
        "\n",
        "Training + validation loop. We implement early-stopping if validation loss has not decreased for 10 epochs."
      ]
    },
    {
      "metadata": {
        "id": "7Ivpjd3mU2nN",
        "colab_type": "code",
        "colab": {}
      },
      "cell_type": "code",
      "source": [
        "plt.ion() # Allow live updates of plots\n",
        "\n",
        "def train(net, data, epochs=10, n_seqs=10, n_steps=50, lr=0.001, clip=5, val_frac=0.1, device=torch.device('cpu'),\n",
        "          name='checkpoint', early_stop=True, plot=True):\n",
        "    \"\"\"\n",
        "    Training loop.\n",
        "    \"\"\"\n",
        "    net.train() # switch into training mode\n",
        "    opt = torch.optim.Adam(net.parameters(), lr=lr) # initialize optimizer\n",
        "    criterion = nn.CrossEntropyLoss() # initialize loss function\n",
        "\n",
        "    # create training and validation data\n",
        "    val_idx = int(len(data) * (1 - val_frac))\n",
        "    data, val_data = data[:val_idx], data[val_idx:]\n",
        "    \n",
        "    net.to(device) # move neural net to GPU/CPU memory\n",
        "    \n",
        "    min_val_loss = 10.**10 # initialize minimal validation loss\n",
        "    train_history = {'epoch': [], 'step': [], 'loss': [], 'val_loss': []}\n",
        "\n",
        "    n_chars = len(net.chars) # get size of vocabulary\n",
        "    \n",
        "    # main loop over training epochs\n",
        "    for e in range(epochs):\n",
        "        hidden = None # reste hidden state after each epoch\n",
        "        \n",
        "        # loop over batches\n",
        "        for x, y in get_batches(data, n_seqs, n_steps):\n",
        "\n",
        "            # encode data and create torch-tensors\n",
        "            x = one_hot_encode(x, n_chars)\n",
        "            inputs, targets = torch.from_numpy(x).to(device), torch.tensor(y, dtype=torch.long).to(device)\n",
        "            \n",
        "            # reset gradient information\n",
        "            net.zero_grad()\n",
        "            \n",
        "            # generate network output\n",
        "            output, hidden = net.forward(inputs, hidden)\n",
        "            \n",
        "            # compute loss\n",
        "            loss = criterion(output.view(n_seqs * n_steps, n_chars), targets.view(n_seqs * n_steps))\n",
        "            \n",
        "            # compute gradients\n",
        "            loss.backward()\n",
        "\n",
        "            # gradient clipping to prevent exploding gradients\n",
        "            nn.utils.clip_grad_norm_(net.parameters(), clip)\n",
        "            \n",
        "            # optmize\n",
        "            opt.step()\n",
        "\n",
        "            # prevent backpropagating through the entire training history\n",
        "            # by detaching hidden state and cell state\n",
        "            hidden = (hidden[0].detach(), hidden[1].detach())\n",
        "        \n",
        "        # validation step is done without tracking gradients\n",
        "        with torch.no_grad():\n",
        "            val_h = None\n",
        "            val_losses = []\n",
        "            \n",
        "            for x, y in get_batches(val_data, n_seqs, n_steps):\n",
        "                x = one_hot_encode(x, n_chars)\n",
        "                inputs, targets = torch.from_numpy(x).to(device), torch.tensor(y, dtype=torch.long).to(device)\n",
        "\n",
        "                output, val_h = net.forward(inputs, val_h)\n",
        "                \n",
        "                val_loss = criterion(output.view(n_seqs * n_steps, n_chars), targets.view(n_seqs * n_steps))\n",
        "                val_losses.append(val_loss.item())\n",
        "            \n",
        "            # compute mean validation loss over batches\n",
        "            mean_val_loss = np.mean(val_losses)\n",
        "            \n",
        "            # track progress\n",
        "            train_history['epoch'].append(e+1)\n",
        "            train_history['loss'].append(loss.item())\n",
        "            train_history['val_loss'].append(mean_val_loss)\n",
        "        \n",
        "        if plot:\n",
        "            # create live plot of training loss and validation loss\n",
        "            plt.clf()\n",
        "            plt.plot(train_history['loss'], lw=2, c='C0')\n",
        "            plt.plot(train_history['val_loss'], lw=2, c='C1')\n",
        "            plt.xlabel('epoch')\n",
        "            plt.title(\"{}   Epoch: {:.0f}/{:.0f}   Loss: {:.4f}   Val Loss: {:.4f}\".format(\n",
        "                datetime.now().strftime('%H:%M:%S'),\n",
        "                e+1, epochs,\n",
        "                loss.item(),\n",
        "                mean_val_loss), color='k')\n",
        "            display.clear_output(wait=True)\n",
        "            display.display(plt.gcf())\n",
        "        else:\n",
        "            # print training progress\n",
        "            print(\"{}   Epoch: {:.0f}/{:.0f}   Loss: {:.4f}   Val Loss: {:.4f}\".format(\n",
        "                datetime.now().strftime('%H:%M:%S'),\n",
        "                e+1, epochs,\n",
        "                loss.item(),\n",
        "                mean_val_loss))\n",
        "        \n",
        "        # save model checkpoint if validation loss has decreased\n",
        "        if mean_val_loss < min_val_loss:\n",
        "            save_checkpoint(net, opt, name+'.net', train_history=train_history)\n",
        "            min_val_loss = mean_val_loss\n",
        "        \n",
        "        # if validation loss has not decreased for the last 10 epochs, stop training\n",
        "        if early_stop:\n",
        "            if e - np.argmin(train_history['val_loss']) > 10:\n",
        "                display.clear_output()\n",
        "                print('Validation loss does not decrease further, stopping training.')\n",
        "                break\n"
      ],
      "execution_count": 0,
      "outputs": []
    },
    {
      "metadata": {
        "id": "64OlZ0TLZNq9",
        "colab_type": "code",
        "outputId": "5c60b8a1-7de0-4157-d369-81aa8cd2044e",
        "colab": {
          "base_uri": "https://localhost:8080/",
          "height": 312
        }
      },
      "cell_type": "code",
      "source": [
        "# use GPU if available, else use CPU\n",
        "device = torch.device(\"cuda:0\" if torch.cuda.is_available() else \"cpu\")\n",
        "print(device)\n",
        "\n",
        "# load data\n",
        "chars, data = load_data('/content/gdrive/My Drive/Colab Files/github-scraper/github-pytorch-30000.txt')\n",
        "\n",
        "# create RNN\n",
        "net = CharRNN(chars, n_hidden=256, n_layers=3)\n",
        "\n",
        "# train\n",
        "plt.figure(figsize=(12, 4))\n",
        "train(net, data, epochs=500, n_seqs=768, n_steps=512, lr=0.001, device=device, val_frac=0.1,\n",
        "      name='/content/gdrive/My Drive/Colab Files/training-github-pytorch-30000', plot=True)\n"
      ],
      "execution_count": 0,
      "outputs": [
        {
          "output_type": "stream",
          "text": [
            "Validation loss does not decrease further, stopping training.\n"
          ],
          "name": "stdout"
        },
        {
          "output_type": "display_data",
          "data": {
            "image/png": "[encoded data removed]",
            "text/plain": [
              "<Figure size 864x288 with 1 Axes>"
            ]
          },
          "metadata": {
            "tags": []
          }
        }
      ]
    },
    {
      "metadata": {
        "id": "MWt9VlBLnKOd",
        "colab_type": "text"
      },
      "cell_type": "markdown",
      "source": [
        "## 4. Application: topic-specific autocomplete\n",
        "\n",
        "The goal is to use the trained network as an auto-completer when writing `PyTorch` code."
      ]
    },
    {
      "metadata": {
        "id": "b-1i8nt74qPF",
        "colab_type": "text"
      },
      "cell_type": "markdown",
      "source": [
        "### 4.1 Sampling the trained network\n",
        "\n",
        "A simple function to sample network output after priming the network with some Python code."
      ]
    },
    {
      "metadata": {
        "id": "6SVMsO2-nMfy",
        "colab_type": "code",
        "colab": {}
      },
      "cell_type": "code",
      "source": [
        "import re\n",
        "\n",
        "def load_checkpoint(filename):\n",
        "    with open(filename, 'rb') as f:\n",
        "        checkpoint = torch.load(f, map_location='cpu')\n",
        "\n",
        "    net = CharRNN(checkpoint['tokens'], n_hidden=checkpoint['n_hidden'], n_layers=checkpoint['n_layers'])\n",
        "    net.load_state_dict(checkpoint['state_dict'])\n",
        "\n",
        "    train_history = checkpoint['train_history']\n",
        "\n",
        "    return net, train_history\n",
        "\n",
        "\n",
        "def sample_lines(net, n_lines=3, prime='import', top_k=None, device='cpu', max_len=1000):\n",
        "    net.to(device)\n",
        "    net.eval()\n",
        "\n",
        "    # First off, run through the prime characters\n",
        "    chars = []\n",
        "    h = None\n",
        "    for ch in prime:\n",
        "        char, h = net.predict(ch, h, device=device, top_k=top_k)\n",
        "\n",
        "    chars.append(char)\n",
        "\n",
        "    # Now pass in the previous character and get a new one\n",
        "    l = 0\n",
        "    for ii in range(max_len):\n",
        "        char, h = net.predict(chars[-1], h, device=device, top_k=top_k)\n",
        "        chars.append(char)\n",
        "        if char == '\\n':\n",
        "            l += 1\n",
        "            if l == n_lines:\n",
        "                break\n",
        "\n",
        "    return ''.join(chars)\n",
        "\n",
        "\n",
        "def clean_string(x):\n",
        "    x = re.sub('#.*$', '', x, flags=re.MULTILINE)\n",
        "    x = re.sub(\"'''[\\s\\S]*?'''\", '', x, flags=re.MULTILINE)\n",
        "    x = re.sub('\"\"\"[\\s\\S]*?\"\"\"', '', x, flags=re.MULTILINE)\n",
        "    x = re.sub('^[\\t]+\\n', '', x, flags=re.MULTILINE)\n",
        "    x = re.sub('^[ ]+\\n', '', x, flags=re.MULTILINE)\n",
        "    x = re.sub('\\n[\\n]+', '\\n\\n', x, flags=re.MULTILINE)\n",
        "    return x\n",
        "\n",
        "net, _ = load_checkpoint('/content/gdrive/My Drive/Colab Files/training-github-pytorch-30000.net')"
      ],
      "execution_count": 0,
      "outputs": []
    },
    {
      "metadata": {
        "id": "OEuJKW9EnVA-",
        "colab_type": "code",
        "outputId": "a78d842f-9ebd-4a95-9122-c496d4a1dea6",
        "colab": {
          "base_uri": "https://localhost:8080/",
          "height": 119
        }
      },
      "cell_type": "code",
      "source": [
        "prime = 'import torch\\n'\n",
        "\n",
        "clean_prime = clean_string(prime)\n",
        "print(sample_lines(net, 5, prime=clean_prime, top_k=3))"
      ],
      "execution_count": 0,
      "outputs": [
        {
          "output_type": "stream",
          "text": [
            "from torch.utils.data import Dataset, DataLoader\n",
            "\n",
            "def conv(predicate_encoder, data, data_train_loader, train_loader, train_loader):\n",
            "    plt.model()\n",
            "    for item in range(0, n_layers):\n",
            "\n"
          ],
          "name": "stdout"
        }
      ]
    },
    {
      "metadata": {
        "id": "kwgOOkMprDlF",
        "colab_type": "text"
      },
      "cell_type": "markdown",
      "source": [
        "### 4.2 Jupyter notebook magic\n",
        "\n",
        "To make sampling more convenient, we define the magic command `%%sample`. If a code cell starts with this command, the remaining code in the cell is used as input for the network. The output of the cell upon execution are the next 20 lines of code as predicted by the network."
      ]
    },
    {
      "metadata": {
        "id": "5ef0HssMooQm",
        "colab_type": "code",
        "colab": {}
      },
      "cell_type": "code",
      "source": [
        "from IPython.core.magic import (register_line_magic, register_cell_magic,\n",
        "                                register_line_cell_magic)\n",
        "\n",
        "@register_cell_magic\n",
        "def sample(line, prime):\n",
        "    clean_prime = clean_string(prime)\n",
        "    print(sample_lines(net, 20, prime=clean_prime, top_k=3))"
      ],
      "execution_count": 0,
      "outputs": []
    },
    {
      "metadata": {
        "id": "Rf3CHpNuqTJL",
        "colab_type": "code",
        "outputId": "6957f8a2-cf18-4a49-c8df-95b0a531470b",
        "colab": {
          "base_uri": "https://localhost:8080/",
          "height": 391
        }
      },
      "cell_type": "code",
      "source": [
        "%%sample\n",
        "import matplotlib.pyplot as plt\n",
        "import pandas as pd"
      ],
      "execution_count": 0,
      "outputs": [
        {
          "output_type": "stream",
          "text": [
            "\n",
            "import numpy as np\n",
            "\n",
            "def state_dict(self, input):\n",
            "\n",
            "    if self.start_size == 1:\n",
            "        if isinstance(self, nn.Module):\n",
            "            if self.dataset == 'critic':\n",
            "                return self._cuda()\n",
            "    def forward(self, input):\n",
            "        if not isinstance(params):\n",
            "            if self.training:\n",
            "                input = self.activation(self.conv(x))\n",
            "                save = module(state)\n",
            "\n",
            "        if self.device:\n",
            "            return self.__met___mask()\n",
            "        if self.dict == 'test':\n",
            "            target = self.transitions.compute(data)\n",
            "            self.assertTrue(target.shape)\n",
            "\n",
            "\n"
          ],
          "name": "stdout"
        }
      ]
    },
    {
      "metadata": {
        "id": "DrzV8f3P6SCB",
        "colab_type": "text"
      },
      "cell_type": "markdown",
      "source": [
        "### 4.3 Juypter notebook integration\n",
        "\n",
        "We define a custom completer within the Jupyter notebook environment. This injects code-completions from our trained network into the suggestions from the Jupyter editor when hitting `TAB`:"
      ]
    },
    {
      "metadata": {
        "id": "wlLndYCfqUpL",
        "colab_type": "code",
        "colab": {}
      },
      "cell_type": "code",
      "source": [
        "import IPython\n",
        "import inspect\n",
        "\n",
        "def charRNN_completer(self, t):\n",
        "    # get code of current cell\n",
        "    locals_caller = inspect.currentframe().f_back.f_back.f_back.f_back.f_locals\n",
        "    code = locals_caller['code']\n",
        "    cursor_pos = locals_caller['cursor_pos']\n",
        "    \n",
        "    # remove any reference to avoid leakages\n",
        "    del locals_caller\n",
        "    \n",
        "    # create completions\n",
        "    clean_prime = clean_string(code)\n",
        "    completions = []\n",
        "    \n",
        "    completions.append(sample_lines(net, 1, prime=clean_prime, top_k=1))\n",
        "    \n",
        "    for i in range(3):\n",
        "        completions.append(sample_lines(net, 1, prime=clean_prime, top_k=None))\n",
        "        \n",
        "    return completions\n",
        "\n",
        "IPython.get_ipython().set_custom_completer(charRNN_completer)"
      ],
      "execution_count": 0,
      "outputs": []
    },
    {
      "metadata": {
        "id": "dlY0tMoUtnQG",
        "colab_type": "code",
        "colab": {}
      },
      "cell_type": "code",
      "source": [
        "class CharRNN(nn.Module):\n",
        "    def __init__(self, tokens, n_"
      ],
      "execution_count": 0,
      "outputs": []
    }
  ]
}